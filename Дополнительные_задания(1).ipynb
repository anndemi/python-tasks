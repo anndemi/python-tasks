{
  "nbformat": 4,
  "nbformat_minor": 0,
  "metadata": {
    "colab": {
      "provenance": []
    },
    "kernelspec": {
      "name": "python3",
      "display_name": "Python 3"
    },
    "language_info": {
      "name": "python"
    }
  },
  "cells": [
    {
      "cell_type": "markdown",
      "source": [
        "# **Модуль random**"
      ],
      "metadata": {
        "id": "joiWbscgOi-p"
      }
    },
    {
      "cell_type": "markdown",
      "source": [
        "В основе модуля `random` лежит генератор псевдослучайных чисел — на самом деле, число выбирается не случайно, а на основе сложных математических вычислений. Из-за этого `random` не принято использовать в сферах, где нужна повышенная безопасность."
      ],
      "metadata": {
        "id": "WFvgccpkmKvP"
      }
    },
    {
      "cell_type": "markdown",
      "source": [
        "`random.random()` выдаёт случайное число от 0 до 1.\n",
        "\n",
        "Если необходимо получить число из большего диапазона, то можно умножить результат на некоторую константу."
      ],
      "metadata": {
        "id": "o6gPwrZAmcYy"
      }
    },
    {
      "cell_type": "code",
      "source": [
        "import random\n",
        "1000 * random.random()"
      ],
      "metadata": {
        "colab": {
          "base_uri": "https://localhost:8080/"
        },
        "id": "FnZa140wdFoy",
        "outputId": "dcaa6969-b001-4bf0-9b6a-ebb0b489b81e"
      },
      "execution_count": null,
      "outputs": [
        {
          "output_type": "execute_result",
          "data": {
            "text/plain": [
              "697.997164352875"
            ]
          },
          "metadata": {},
          "execution_count": 139
        }
      ]
    },
    {
      "cell_type": "markdown",
      "source": [
        "Функция randrange() возвращает случайное целое число из определенного набора чисел. Она имеет три формы:\n",
        "\n",
        "1.   `randrange(stop)`: в качестве набора чисел, из которых происходит извлечение случайного значения, будет использоваться диапазон от `0` до числа `stop`;\n",
        "2.   `randrange(start, stop)`: набор чисел представляет диапазон от числа `start` до числа `stop`;\n",
        "3.   `randrange(start, stop, step)`: набор чисел представляет диапазон от числа `start` до числа `stop`, при этом каждое число в диапазоне отличается от предыдущего на шаг `step`.\n",
        "\n",
        "Кроме того, существует функция `randint(a, b)`. Она возвращает случайное целое число a ≤ n ≤ b (что соответствует `randrange(a, b+1)`).\n",
        "\n",
        "    \n",
        "\n",
        "    "
      ],
      "metadata": {
        "id": "rBMExaurmX2i"
      }
    },
    {
      "cell_type": "code",
      "source": [
        "import random\n",
        "print(random.randrange(20))\n",
        "print(random.randrange(10, 20))\n",
        "print(random.randrange(10, 20, 3))\n",
        "print(random.randint(10, 19))"
      ],
      "metadata": {
        "colab": {
          "base_uri": "https://localhost:8080/"
        },
        "id": "-DF5geAPcRjx",
        "outputId": "6198b4ea-9759-49c5-a17b-39424f0ca18a"
      },
      "execution_count": null,
      "outputs": [
        {
          "output_type": "stream",
          "name": "stdout",
          "text": [
            "13\n",
            "15\n",
            "10\n",
            "13\n"
          ]
        }
      ]
    },
    {
      "cell_type": "markdown",
      "source": [
        "# **Задача 1.**\n",
        "*(0,5 балла)*\n",
        "\n",
        "Написать функцию, реализующую вычисление скалярного произведения трёхмерных векторов. Вычислить скалярное произведение векторов (0.1, -3.5, 8.1) и (-5.5, 9.2, 0)."
      ],
      "metadata": {
        "id": "ly9AYiy3HOTL"
      }
    },
    {
      "cell_type": "code",
      "source": [
        "def sc_prod3(x, y):\n",
        "    res = 0\n",
        "    for i in range(2):\n",
        "        res += x[i] * y[i]\n",
        "    return res\n",
        "\n",
        "\n",
        "vector1 = [0.1, -3.5, 8.1]\n",
        "vector2 = [-5.5, 9.2, 0]\n",
        "print(sc_prod3(vector1, vector2))"
      ],
      "metadata": {
        "colab": {
          "base_uri": "https://localhost:8080/"
        },
        "id": "KCeT6K7IIlOJ",
        "outputId": "19b3c780-10b0-4ac7-afd5-b308f83320d0"
      },
      "execution_count": null,
      "outputs": [
        {
          "output_type": "stream",
          "name": "stdout",
          "text": [
            "-32.74999999999999\n"
          ]
        }
      ]
    },
    {
      "cell_type": "markdown",
      "source": [
        "# **Работа с исключениями: assert, raise, try**"
      ],
      "metadata": {
        "id": "mV0ViP9UPv30"
      }
    },
    {
      "cell_type": "markdown",
      "source": [
        "`assert` - raise an exception if a given condition is (or isn't) true.\n",
        "\n",
        "`raise` - raise an exception.\n",
        "\n",
        "`try` - execute some code that might raise an exception, and if so, catch it.\n"
      ],
      "metadata": {
        "id": "0z8tLK00QPP_"
      }
    },
    {
      "cell_type": "markdown",
      "source": [
        "**`assert`** позволяет проверить правильность кода, определяя, остаются ли истинными некоторые условия.\n",
        "\n",
        "Условие `assert` должно быть истинным, если в программе нет ошибки. Если условие оказывается ложным, то `assert` вызывает исключение и прекращает выполнение вашей программы.\n",
        "\n",
        "`assert` также может включать необязательное сообщение, однозначно описывающее возникшую ошибку или проблему.\n",
        "\n",
        "        assert expression[, assertion_message]"
      ],
      "metadata": {
        "id": "3JHyiOSVPH5I"
      }
    },
    {
      "cell_type": "code",
      "source": [
        "number = input()\n",
        "assert number == int(number), \"input() считывает строки!\""
      ],
      "metadata": {
        "colab": {
          "base_uri": "https://localhost:8080/",
          "height": 201
        },
        "id": "l-1xTStAU4u7",
        "outputId": "a20eacf4-8219-49d2-cc7b-a08a533d9ff1"
      },
      "execution_count": null,
      "outputs": [
        {
          "name": "stdout",
          "output_type": "stream",
          "text": [
            "42\n"
          ]
        },
        {
          "output_type": "error",
          "ename": "AssertionError",
          "evalue": "ignored",
          "traceback": [
            "\u001b[0;31m---------------------------------------------------------------------------\u001b[0m",
            "\u001b[0;31mAssertionError\u001b[0m                            Traceback (most recent call last)",
            "\u001b[0;32m<ipython-input-85-fe81aca05c21>\u001b[0m in \u001b[0;36m<module>\u001b[0;34m\u001b[0m\n\u001b[1;32m      1\u001b[0m \u001b[0mnumber\u001b[0m \u001b[0;34m=\u001b[0m \u001b[0minput\u001b[0m\u001b[0;34m(\u001b[0m\u001b[0;34m)\u001b[0m\u001b[0;34m\u001b[0m\u001b[0;34m\u001b[0m\u001b[0m\n\u001b[0;32m----> 2\u001b[0;31m \u001b[0;32massert\u001b[0m \u001b[0mnumber\u001b[0m \u001b[0;34m==\u001b[0m \u001b[0mint\u001b[0m\u001b[0;34m(\u001b[0m\u001b[0mnumber\u001b[0m\u001b[0;34m)\u001b[0m\u001b[0;34m,\u001b[0m \u001b[0;34m\"input() считывает строки!\"\u001b[0m\u001b[0;34m\u001b[0m\u001b[0;34m\u001b[0m\u001b[0m\n\u001b[0m",
            "\u001b[0;31mAssertionError\u001b[0m: input() считывает строки!"
          ]
        }
      ]
    },
    {
      "cell_type": "markdown",
      "source": [
        "\n",
        " Конструкция **`try`** работает таким образом:\n",
        "1.   Сначала выполняются выражения, которые записаны в блоке `try`;\n",
        "2.   Если при выполнения блока `try` не возникло никаких исключений, блок except пропускается, и выполняется дальнейший код;\n",
        "3.   Если во время выполнения блока `try` в каком-то месте возникло исключение, оставшаяся часть блока `try` пропускается;\n",
        "4.   Если в блоке `except` указано исключение, которое возникло, выполняется код в блоке `except`;\n",
        "5.   Если исключение, которое возникло, не указано в блоке `except`, выполнение программы прерывается и выдается ошибка.\n",
        "\n",
        " "
      ],
      "metadata": {
        "id": "Z54UCFEDsXsF"
      }
    },
    {
      "cell_type": "code",
      "source": [
        "try:\n",
        "    2 / 0\n",
        "except ZeroDivisionError:\n",
        "    print(\"На ноль делить нельзя!\")"
      ],
      "metadata": {
        "colab": {
          "base_uri": "https://localhost:8080/"
        },
        "id": "YiMht65MKGIm",
        "outputId": "9855a548-b652-43ee-c9ff-bbe11941cad5"
      },
      "execution_count": null,
      "outputs": [
        {
          "output_type": "stream",
          "name": "stdout",
          "text": [
            "На ноль делить нельзя!\n"
          ]
        }
      ]
    },
    {
      "cell_type": "code",
      "source": [
        "import math\n",
        "\n",
        "try:\n",
        "    math.sqrt(-1)\n",
        "except ValueError:\n",
        "    print(\"Для работы с комплексными числами вместо модуля math используйте cmath!\")"
      ],
      "metadata": {
        "colab": {
          "base_uri": "https://localhost:8080/"
        },
        "id": "nUZlKampslmi",
        "outputId": "c3b84197-5123-4548-b08e-f8ac951de700"
      },
      "execution_count": null,
      "outputs": [
        {
          "output_type": "stream",
          "name": "stdout",
          "text": [
            "Для работы с комплексными числами вместо модуля math используйте cmath!\n"
          ]
        }
      ]
    },
    {
      "cell_type": "markdown",
      "source": [
        "Если для разных типов ошибок следует предпринимать разные действия, в одной и той же конструкции может быть несколько блоков `except`.\n",
        "\n",
        "Также в программе могут присутствовать опциональные блоки `else` и `finally`. Содержимое блока `else` выполняется, если не было исключения. Содержимое блока `finally` выполняется в любом случае."
      ],
      "metadata": {
        "id": "y2xwqAVsLrDn"
      }
    },
    {
      "cell_type": "code",
      "source": [
        "import math\n",
        "\n",
        "number = 9\n",
        "try:\n",
        "    a = math.sqrt(number)\n",
        "except ValueError:\n",
        "    print(\"Для работы с комплексными числами вместо модуля math используйте cmath!\")\n",
        "except TypeError:\n",
        "    print(\"Неверный тип переменной\")\n",
        "else:\n",
        "    print(\"Квадратный корень из числа \", number, \" равен \", a, \".\", sep = \"\")\n",
        "finally:\n",
        "    print(\"math.sqrt позволяет брать корни из неотрицательных чисел.\")"
      ],
      "metadata": {
        "colab": {
          "base_uri": "https://localhost:8080/"
        },
        "id": "2SRreEczMlf_",
        "outputId": "c06a87af-61e1-4301-ffa4-7d3a380b5cb2"
      },
      "execution_count": null,
      "outputs": [
        {
          "output_type": "stream",
          "name": "stdout",
          "text": [
            "Квадратный корень из числа 9 равен 3.0.\n",
            "math.sqrt позволяет брать корни из неотрицательных чисел.\n"
          ]
        }
      ]
    },
    {
      "cell_type": "markdown",
      "source": [
        "**`raise`** позволяет принудительно вызвать указанное исключение.\n",
        "\n",
        "Если в текущей области видимости не активировано ни одного исключения, то в месте, где указана инструкция `raise`, без указания выражения, возникает исключение RuntimeError, указывающее, что это ошибка.\n",
        "\n",
        "The `raise` keyword is used to raise an exception.\n",
        "\n",
        "You can define what kind of error to raise, and the text to print to the user.\n",
        "\n",
        "Можно использовать ключевое слово `raise` и не указывая, какое исключение вызвать. Оно вызовет исключение, которое произошло. Поэтому его можно использовать только в блоке except."
      ],
      "metadata": {
        "id": "1pDNCAmavs5r"
      }
    },
    {
      "cell_type": "code",
      "source": [
        "x = \"hello\"\n",
        "if not type(x) is int:\n",
        "  raise TypeError(\"Only integers are allowed!\") "
      ],
      "metadata": {
        "colab": {
          "base_uri": "https://localhost:8080/",
          "height": 201
        },
        "id": "sG9Wtc2yv4g-",
        "outputId": "ed64bc52-e89c-4a04-9bb6-2a4ae77d9e6f"
      },
      "execution_count": null,
      "outputs": [
        {
          "output_type": "error",
          "ename": "TypeError",
          "evalue": "ignored",
          "traceback": [
            "\u001b[0;31m---------------------------------------------------------------------------\u001b[0m",
            "\u001b[0;31mTypeError\u001b[0m                                 Traceback (most recent call last)",
            "\u001b[0;32m<ipython-input-157-d784db2dffad>\u001b[0m in \u001b[0;36m<module>\u001b[0;34m\u001b[0m\n\u001b[1;32m      1\u001b[0m \u001b[0mx\u001b[0m \u001b[0;34m=\u001b[0m \u001b[0;34m\"hello\"\u001b[0m\u001b[0;34m\u001b[0m\u001b[0;34m\u001b[0m\u001b[0m\n\u001b[1;32m      2\u001b[0m \u001b[0;32mif\u001b[0m \u001b[0;32mnot\u001b[0m \u001b[0mtype\u001b[0m\u001b[0;34m(\u001b[0m\u001b[0mx\u001b[0m\u001b[0;34m)\u001b[0m \u001b[0;32mis\u001b[0m \u001b[0mint\u001b[0m\u001b[0;34m:\u001b[0m\u001b[0;34m\u001b[0m\u001b[0;34m\u001b[0m\u001b[0m\n\u001b[0;32m----> 3\u001b[0;31m   \u001b[0;32mraise\u001b[0m \u001b[0mTypeError\u001b[0m\u001b[0;34m(\u001b[0m\u001b[0;34m\"Only integers are allowed\"\u001b[0m\u001b[0;34m)\u001b[0m\u001b[0;34m\u001b[0m\u001b[0;34m\u001b[0m\u001b[0m\n\u001b[0m",
            "\u001b[0;31mTypeError\u001b[0m: Only integers are allowed"
          ]
        }
      ]
    },
    {
      "cell_type": "markdown",
      "source": [
        "# **sys.exit()**"
      ],
      "metadata": {
        "id": "Ed5aoUaish9D"
      }
    },
    {
      "cell_type": "markdown",
      "source": [
        "Модуль `sys` предлагает методы, которые позволяют работать с разными элементами среды выполнения Python.\n",
        "\n",
        "Метод `exit` выходит из программы Python или завершает конкретный процесс. Он используется для безопасного завершения программы в случае исключения. \n",
        "\n",
        "При вызове `SystemExit` также исполняются функции блока `finally` из инструкции `try`.\n",
        "\n",
        "Синтаксис:\n",
        "\n",
        "        `sys.exit([arg])`"
      ],
      "metadata": {
        "id": "0lqvnDyDBlHX"
      }
    },
    {
      "cell_type": "code",
      "source": [
        "import sys\n",
        "\n",
        "sys.exit(\"Пример\")\n"
      ],
      "metadata": {
        "colab": {
          "base_uri": "https://localhost:8080/",
          "height": 149
        },
        "id": "uAIt0qKGszza",
        "outputId": "a228d39a-6299-4aac-a990-5b1d8e0dc0f8"
      },
      "execution_count": null,
      "outputs": [
        {
          "output_type": "error",
          "ename": "SystemExit",
          "evalue": "ignored",
          "traceback": [
            "An exception has occurred, use %tb to see the full traceback.\n",
            "\u001b[0;31mSystemExit\u001b[0m\u001b[0;31m:\u001b[0m Пример\n"
          ]
        },
        {
          "output_type": "stream",
          "name": "stderr",
          "text": [
            "/usr/local/lib/python3.8/dist-packages/IPython/core/interactiveshell.py:3334: UserWarning: To exit: use 'exit', 'quit', or Ctrl-D.\n",
            "  warn(\"To exit: use 'exit', 'quit', or Ctrl-D.\", stacklevel=1)\n"
          ]
        }
      ]
    },
    {
      "cell_type": "markdown",
      "source": [
        "# **Списки (list) в Python**\n",
        "\n",
        "Список определяется с помощью квадратных скобок [ ] или конструктора list. \n",
        "\n",
        "Для добавления элемента в конец списка можно использовать метод `append`."
      ],
      "metadata": {
        "id": "OLsdOn5RNV9m"
      }
    },
    {
      "cell_type": "code",
      "source": [
        "languages1 = [\"Python\", \"C++\", \"Pascal\"]\n",
        "languages1.append(\"Java\")\n",
        "print(languages1)"
      ],
      "metadata": {
        "colab": {
          "base_uri": "https://localhost:8080/"
        },
        "id": "sURl02NflOMH",
        "outputId": "6177ba60-968c-4728-815a-d28b3344cf24"
      },
      "execution_count": null,
      "outputs": [
        {
          "output_type": "stream",
          "name": "stdout",
          "text": [
            "['Python', 'C++', 'Pascal', 'Java']\n"
          ]
        }
      ]
    },
    {
      "cell_type": "markdown",
      "source": [
        "Метод `insert` позволяет вставить элемент в указанную позицию списка."
      ],
      "metadata": {
        "id": "9g8-c9CDlvPl"
      }
    },
    {
      "cell_type": "code",
      "source": [
        "languages2 = [\"Python\", \"C++\", \"Pascal\"]\n",
        "languages2.insert(0, \"Java\")\n",
        "print(languages2)"
      ],
      "metadata": {
        "colab": {
          "base_uri": "https://localhost:8080/"
        },
        "id": "lvxowZO7ljY4",
        "outputId": "c35544c4-1b15-48db-ba65-e1a543fce629"
      },
      "execution_count": null,
      "outputs": [
        {
          "output_type": "stream",
          "name": "stdout",
          "text": [
            "['Java', 'Python', 'C++', 'Pascal']\n"
          ]
        }
      ]
    },
    {
      "cell_type": "markdown",
      "source": [
        "Метод `pop` удаляет из списка элемент, находившийся в указанной позиции, и возвращает его."
      ],
      "metadata": {
        "id": "lQLMOb1hmOS1"
      }
    },
    {
      "cell_type": "code",
      "source": [
        "languages3 = [\"Python\", \"C++\", \"Pascal\"]\n",
        "lang = languages3.pop(1)\n",
        "print(lang)\n",
        "print(languages3)"
      ],
      "metadata": {
        "colab": {
          "base_uri": "https://localhost:8080/"
        },
        "id": "szqJtGw7l6-5",
        "outputId": "bb63996d-e532-4629-ea7e-db862fb71819"
      },
      "execution_count": null,
      "outputs": [
        {
          "output_type": "stream",
          "name": "stdout",
          "text": [
            "C++\n",
            "['Python', 'Pascal']\n"
          ]
        }
      ]
    },
    {
      "cell_type": "markdown",
      "source": [
        "Метод `remove` находит и удаляет из списка первый элемент с указанным значением."
      ],
      "metadata": {
        "id": "pEWhO22amToh"
      }
    },
    {
      "cell_type": "code",
      "source": [
        "languages4 = [\"Python\", \"C++\", \"Pascal\", \"C++\"]\n",
        "languages4.remove(\"C++\")\n",
        "print(languages4)"
      ],
      "metadata": {
        "colab": {
          "base_uri": "https://localhost:8080/"
        },
        "id": "MwkcN7acmUV3",
        "outputId": "b968a409-6bfa-4a68-e53d-9b68f3355523"
      },
      "execution_count": null,
      "outputs": [
        {
          "output_type": "stream",
          "name": "stdout",
          "text": [
            "['Python', 'Pascal', 'C++']\n"
          ]
        }
      ]
    },
    {
      "cell_type": "markdown",
      "source": [
        "# **Задача 2.**\n",
        "\n",
        "*(1 балл)*\n",
        "\n",
        "Написать функцию, реализующую вычисление скалярного произведения векторов произвольной размерности, вводимой с клавиатуры. Координаты векторов задаются с помощью модуля `random`. Проверить правильность вычислений, используя `numpy.dot()` и конструкцию `assert`."
      ],
      "metadata": {
        "id": "Paauzaa_KFcY"
      }
    },
    {
      "cell_type": "code",
      "source": [
        "import random\n",
        "import numpy\n",
        "\n",
        "def sc_prod (n, x, y):\n",
        "    res = 0\n",
        "    for j in range(n):\n",
        "        res += x[j] * y[j]\n",
        "    assert res == numpy.dot(x, y), \"При вычислении скалярного произведения допущена ошибка!\"\n",
        "    return res\n",
        "\n",
        "dim = int(input(\"Введите размерность векторов:\"))\n",
        "vector1 = []\n",
        "vector2 = []\n",
        "for i in range(dim):\n",
        "    vector1.append(100 * random.random())\n",
        "    vector2.append(100 * random.random())\n",
        "print(\"Первый вектор:\", vector1)\n",
        "print(\"Второй вектор:\", vector2)\n",
        "print(\"Скалярное произведение векторов равно: \", sc_prod(dim, vector1, vector2))"
      ],
      "metadata": {
        "colab": {
          "base_uri": "https://localhost:8080/"
        },
        "id": "2gCh0RchK2Ux",
        "outputId": "087e7cc6-eade-4784-b4d0-a0bbb575f319"
      },
      "execution_count": null,
      "outputs": [
        {
          "output_type": "stream",
          "name": "stdout",
          "text": [
            "Введите размерность векторов:7\n",
            "Первый вектор: [44.1612318009773, 57.78366112412249, 90.2399505790826, 15.486193015764549, 7.775140187901009, 14.73936088241562, 97.32854297558953]\n",
            "Второй вектор: [14.01416919694749, 33.73135092871229, 54.347160498093835, 72.07603247164147, 47.256213135230595, 89.37629304446224, 76.4202954806532]\n",
            "Скалярное произведение векторов равно:  17711.121486142503\n"
          ]
        }
      ]
    },
    {
      "cell_type": "markdown",
      "source": [
        "# **Строки (string) в Python**\n",
        "Строковые литералы записываются в одиночных (') или двойных (\") кавычках. Для записи многострочных строк, содержащих разрывы, используются тройные кавычки: ''' или \"\"\".\n",
        "\n",
        "Объекты других типов (например, числа) можно преобразовать в строку с помощью функции `str` (а строку можно попытаться превратить в число функциями `int()` или `float()`).\n",
        "\n",
        "Сложение двух строк означает их конкатенацию."
      ],
      "metadata": {
        "id": "UBTvAbaDNoOU"
      }
    },
    {
      "cell_type": "code",
      "source": [
        "sentence = '''Это строка,\n",
        "    разделённая на несколько строчек.'''\n",
        "print (sentence)"
      ],
      "metadata": {
        "colab": {
          "base_uri": "https://localhost:8080/"
        },
        "id": "Uvp8rwOBhD46",
        "outputId": "53b5b826-9dc4-435d-bb19-6daba2ffc65a"
      },
      "execution_count": null,
      "outputs": [
        {
          "output_type": "stream",
          "name": "stdout",
          "text": [
            "Это строка,\n",
            "    разделённая на несколько строчек.\n"
          ]
        }
      ]
    },
    {
      "cell_type": "code",
      "source": [
        "a = 42\n",
        "b = str(a)\n",
        "c = \"Число \" + b\n",
        "print(c)"
      ],
      "metadata": {
        "colab": {
          "base_uri": "https://localhost:8080/"
        },
        "id": "Ws6ufERciNRP",
        "outputId": "50f2f676-ce99-471f-de69-b0542b6fefa1"
      },
      "execution_count": null,
      "outputs": [
        {
          "output_type": "stream",
          "name": "stdout",
          "text": [
            "Число 42\n"
          ]
        }
      ]
    },
    {
      "cell_type": "markdown",
      "source": [
        "**Синтаксис функции `split`:**\n",
        "\n",
        "`string.split(separator, maxsplit)`\n",
        "\n",
        "Параметры `separator` и `maxsplit` являются необязательными. Параметр `separator` позволяет задать разделитель вручную (по умолчанию разделителем является пробел), а `maxsplit` определяет максимальное количество разделений (по умолчанию осуществляются все разделения, `maxsplit` = -1)."
      ],
      "metadata": {
        "id": "v74T99mZN00y"
      }
    },
    {
      "cell_type": "code",
      "source": [
        "sentence = \"Python является одним из самых популярных и востребованных языков программирования.\"\n",
        "print(sentence.split(' ', -1))"
      ],
      "metadata": {
        "colab": {
          "base_uri": "https://localhost:8080/"
        },
        "id": "Mv-i7a5FInm4",
        "outputId": "c946a548-d06f-4983-8903-96e0c86f8da1"
      },
      "execution_count": null,
      "outputs": [
        {
          "output_type": "stream",
          "name": "stdout",
          "text": [
            "['Python', 'является', 'одним', 'из', 'самых', 'популярных', 'и', 'востребованных', 'языков', 'программирования.']\n"
          ]
        }
      ]
    },
    {
      "cell_type": "markdown",
      "source": [
        "# **Задача 3.**\n",
        "*(1,5 балла)*\n",
        "\n",
        "С клавиатуры по очереди вводятся уравнения двух прямых на плоскости строками в формате `y = k * x + b`. Определить, являются ли эти прямые параллельными (прямые параллельны в том случае, если совпадают углы, под которыми они пересекают ось Ох). \n",
        "\n",
        "Необходимо учесть, что:  \n",
        "\n",
        "1.   Разбор строк с уравнениями прямых должен быть вынесен в отдельную функцию;\n",
        "2.   В случае, если прямые не параллельны, следует вывести коэффициенты `k` для этих прямых;\n",
        "3.   Уравнения могут быть введены неверно (в частности, отсутствие пробелов здесь тоже должно считаться ошибкой); \n",
        "4.   При `k = ± 1` этот коэффициент может быть пропущен, то есть уравнение будет иметь вид `y = ± x + b`;\n",
        "5.   Коэффициент `k` может быть отрицательным;\n",
        "6.   Прямые (или, по крайней мере, одна из них) могут быть параллельны оси Ох (`y = b`) — в таком случае следует учитывать, что `k = 0`, а справа от знака равенства в уравнении стоит только коэффициент` b`;\n",
        "7.   Если уравнение некоторой прямой записано неверно, следует вывести номер этой прямой (1 или 2).\n",
        "\n",
        "\n",
        "    "
      ],
      "metadata": {
        "id": "Z9klGtnHMRMv"
      }
    },
    {
      "cell_type": "code",
      "source": [
        "import sys\n",
        "\n",
        "\n",
        "def equation_deconstruction (line, num):\n",
        "    try:\n",
        "        k = line.split(' ', -1)[2]\n",
        "        #print(\"b = \", line.split(' ', -1)[-1])\n",
        "        #print(line.split(' ', -1))\n",
        "        everything = set(line.split(' ', -1))\n",
        "        #print(everything)\n",
        "        if 'x' not in everything:\n",
        "            print (num, \"-я прямая параллельна оси Ox.\", sep = \"\")\n",
        "            k = 0\n",
        "            exit\n",
        "        if k == '-':\n",
        "            k = k + line.split(' ', -1)[3]\n",
        "        if k == 'x':\n",
        "            k = '1'\n",
        "        if k == '-x':\n",
        "            k = '-1'\n",
        "    except:\n",
        "        sys.exit(f\"Ошибка при задании уравнения {num}-ой прямой\")\n",
        "    try:\n",
        "        coeff = float(k)\n",
        "    except:\n",
        "        sys.exit(f\"Неверно представлен коэффициент наклона {num}-ой прямой\")\n",
        "    return (coeff)\n",
        "\n",
        "#line1 = input(\"Введите уравнение первой прямой:\\n\")\n",
        "#line2 = input(\"Введите уравнение второй прямой:\\n\")\n",
        "line1 = 'y = - x + 1'\n",
        "line2 = 'y = x'\n",
        "coeff1 = equation_deconstruction(line1, 1)\n",
        "coeff2 = equation_deconstruction(line2, 2)\n",
        "if (coeff1 == coeff2):\n",
        "    print(\"Данные прямые параллельны.\\n\")\n",
        "else:\n",
        "    print(\"Данные прямые не являются параллельными. Тангенсы углов наклона прямых равны соответственно\", coeff1, \"и\", coeff2, sep = \" \")"
      ],
      "metadata": {
        "colab": {
          "base_uri": "https://localhost:8080/"
        },
        "id": "lXgcApDkWuhs",
        "outputId": "e5567e6b-d3b4-4ca9-86e7-d543f2232d22",
        "collapsed": true
      },
      "execution_count": 1,
      "outputs": [
        {
          "output_type": "stream",
          "name": "stdout",
          "text": [
            "Данные прямые не являются параллельными. Тангенсы углов наклона прямых равны соответственно -1.0 и 1.0\n"
          ]
        }
      ]
    },
    {
      "cell_type": "code",
      "source": [
        "!python --version"
      ],
      "metadata": {
        "colab": {
          "base_uri": "https://localhost:8080/"
        },
        "id": "vd7ZJcqcDHEG",
        "outputId": "749abd43-6ab7-49d6-9991-538e1f810178"
      },
      "execution_count": null,
      "outputs": [
        {
          "output_type": "stream",
          "name": "stdout",
          "text": [
            "Python 3.8.10\n"
          ]
        }
      ]
    }
  ]
}